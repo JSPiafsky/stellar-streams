{
 "cells": [
  {
   "cell_type": "markdown",
   "id": "c0baf4e9",
   "metadata": {},
   "source": [
    "The goal here is to construct a fake stellar stream using a density distribution. Here we recreate a stellar stream using its density distribution."
   ]
  },
  {
   "cell_type": "code",
   "execution_count": null,
   "id": "b48de409",
   "metadata": {},
   "outputs": [],
   "source": [
    "import numpy as np\n",
    "import matplotlib.pyplot as plt\n",
    "import numpy.typing as npt\n",
    "\n",
    "from stellar_stream import StellarStream"
   ]
  },
  {
   "cell_type": "code",
   "execution_count": null,
   "id": "bba2a850",
   "metadata": {},
   "outputs": [],
   "source": [
    "def stream_from_density(centers, dens, size, phi2_sigma, vlos_sigma, rng=None):\n",
    "    if rng==None:\n",
    "        rng = np.random.default_rng()\n",
    "    \n",
    "    phi1_pieces = []\n",
    "    phi2_pieces = []\n",
    "    vlos_pieces = []\n",
    "    \n",
    "    mu = 0\n",
    "    dx = np.diff(centers)[0]\n",
    "    #piece_size = size / len(centers)\n",
    "    \n",
    "    full_size = 0\n",
    "    \n",
    "    for center, density in zip(centers, dens):\n",
    "        stars_in_piece = int(size * density)\n",
    "        full_size += stars_in_piece\n",
    "\n",
    "        phi1 = rng.uniform(center, center + dx, stars_in_piece)\n",
    "        phi2 = rng.normal(mu, phi2_sigma, stars_in_piece)\n",
    "        vlos = rng.normal(mu, vlos_sigma, stars_in_piece)\n",
    "        \n",
    "        phi1_pieces.append(phi1)\n",
    "        phi2_pieces.append(phi2)\n",
    "        vlos_pieces.append(vlos)\n",
    "    \n",
    "    phi1_array = np.concatenate(phi1_pieces)\n",
    "    phi2_array = np.concatenate(phi2_pieces)\n",
    "    vlos_array = np.concatenate(vlos_pieces)\n",
    "    print(full_size)\n",
    "    return phi1_array, phi2_array, vlos_array\n"
   ]
  },
  {
   "cell_type": "code",
   "execution_count": null,
   "id": "4a2e4526",
   "metadata": {},
   "outputs": [],
   "source": [
    "from pathlib import Path\n",
    "p = Path('../../data/sample')\n",
    "\n",
    "simulations = {}\n",
    "\n",
    "for sim_data in p.glob('*.npz'):\n",
    "    simulation_number = sim_data.name.removeprefix('simdatag').removesuffix('.npz')\n",
    "    simulations[simulation_number] = (StellarStream.from_simulation(simulation_number, sim_data)\n",
    "                                            # .select(\"restrict_phi1\", phi1_lim=(-110, 10))\n",
    "                                            # .select(\"restrict_phi2\", phi2_lim=15.0)\n",
    "                                            # .run_analysis(name=\"detrend\", polynomial_fit_degree=4)\n",
    "                                            .run_analysis(name=\"gaussian_process_detrend\", n_bins=40)\n",
    "                                            # .select(\"restrict_phi1\", phi1_lim=(-100, 0))\n",
    "                                            # .select(\"restrict_phi2\", phi2_lim=6.0)\n",
    "    )"
   ]
  },
  {
   "cell_type": "code",
   "execution_count": null,
   "id": "d77b518b",
   "metadata": {},
   "outputs": [],
   "source": [
    "centers, dens = simulations['714'].density_phi1(precision=1)\n",
    "size = len(simulations['714'].phi1)\n",
    "phi2_sigma,vlos_sigma = 1, 5\n",
    "\n",
    "phi1, phi2, vlos = stream_from_density(centers, dens, size, phi2_sigma, vlos_sigma)\n",
    "\n",
    "S = (StellarStream.from_catalog(phi1, phi2, vlos, '714 recon'))"
   ]
  },
  {
   "cell_type": "code",
   "execution_count": null,
   "id": "315237f4",
   "metadata": {},
   "outputs": [],
   "source": [
    "S.plot_stream()"
   ]
  },
  {
   "cell_type": "code",
   "execution_count": null,
   "id": "21667e09",
   "metadata": {},
   "outputs": [],
   "source": [
    "simulations['714'].plot_stream()"
   ]
  },
  {
   "cell_type": "code",
   "execution_count": null,
   "id": "c8beac71",
   "metadata": {},
   "outputs": [],
   "source": [
    "S.plot_density()"
   ]
  },
  {
   "cell_type": "code",
   "execution_count": null,
   "id": "50efba3a",
   "metadata": {},
   "outputs": [],
   "source": [
    "simulations['714'].plot_density()"
   ]
  },
  {
   "cell_type": "code",
   "execution_count": null,
   "id": "f3fac019",
   "metadata": {},
   "outputs": [],
   "source": []
  }
 ],
 "metadata": {
  "kernelspec": {
   "display_name": "stellar",
   "language": "python",
   "name": "python3"
  },
  "language_info": {
   "codemirror_mode": {
    "name": "ipython",
    "version": 3
   },
   "file_extension": ".py",
   "mimetype": "text/x-python",
   "name": "python",
   "nbconvert_exporter": "python",
   "pygments_lexer": "ipython3",
   "version": "3.13.5"
  }
 },
 "nbformat": 4,
 "nbformat_minor": 5
}
